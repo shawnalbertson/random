{
 "cells": [
  {
   "cell_type": "code",
   "execution_count": 1,
   "metadata": {
    "collapsed": true
   },
   "outputs": [],
   "source": [
    "import numpy as np\n",
    "import matplotlib.pyplot as plt\n",
    "from scipy.signal import find_peaks"
   ]
  },
  {
   "cell_type": "code",
   "execution_count": 2,
   "metadata": {
    "scrolled": true
   },
   "outputs": [],
   "source": [
    "# Details for nearby tide station\n",
    "labs = ['M2', 'N2', 'S2', 'K1', 'O1']\n",
    "amp = [1.572, 0.346, 0.238, 0.141, 0.110] # meters\n",
    "pha_deg = [306.9, 279.1, 338.0, 118.5, 104.6] # degrees\n",
    "pha = [p * (np.pi / 180) for p in pha_deg] # rad\n",
    "spd = [28.984104, 28.43973, 30.0, 15.041069, 13.943035] # deg/hr\n",
    "T = [360 / s for s in spd] # hr"
   ]
  },
  {
   "cell_type": "code",
   "execution_count": 3,
   "metadata": {
    "collapsed": true
   },
   "outputs": [],
   "source": [
    "# Take a piece of the prediction between two peaks\n",
    "def get_slice(pred, i, peaks, troughs):\n",
    "    '''\n",
    "    pred (array)\n",
    "    i (int) slice number in pred\n",
    "    peaks (array) indices of peaks\n",
    "    troughs (array) indices of troughs\n",
    "    '''\n",
    "    # Slice predictions around peaks\n",
    "    sample = pred[peaks[i]:peaks[i+1]]\n",
    "    \n",
    "    # Return index of trough relative to sample slice\n",
    "    if troughs[0] < peaks[0]:\n",
    "        trough = troughs[i + 1] - peaks[i]\n",
    "    else:\n",
    "        trough = troughs[i] - peaks[i]\n",
    "        \n",
    "    return sample, trough\n",
    "\n",
    "def get_start_time(pred, trough, min_head):\n",
    "    '''\n",
    "    pred (array) sliced within two peaks\n",
    "    trough (int) index of trough within slice\n",
    "    min_head (float) minimum height of water to begin flow\n",
    "    '''\n",
    "    # want to find the time when the minimum head is first achieved\n",
    "    search_range = pred[:trough]\n",
    "\n",
    "    # Find distance from peak for points in search range\n",
    "    height_diff = -(search_range - pred[0])\n",
    "\n",
    "    # Find difference between heights and target head\n",
    "    head_diff = (abs(height_diff - min_head))\n",
    "\n",
    "    # Find time where head is closest to min_head\n",
    "    t_wait = np.where(head_diff == min(head_diff))[0][0]\n",
    "    \n",
    "    return t_wait\n",
    "\n",
    "def get_slope(pred, t_wait):\n",
    "    '''\n",
    "    pred (array)\n",
    "    t_wait (int) index\n",
    "    '''\n",
    "#     adjustment = 0.03\n",
    "    # Slope assumed to be negative\n",
    "    slope = (pred[t_wait + 1] - pred[t_wait - 1]) / (2)\n",
    "    slope = slope - slope * 0.5\n",
    "    return slope\n",
    "\n",
    "def get_end_time(pred, t_step, t_wait, slope, min_head): \n",
    "    # make array of values within range\n",
    "    t_ = np.linspace(0, len(pred)-1, num = len(pred))\n",
    "#     print((t_))\n",
    "\n",
    "    # draw water level across all values in range\n",
    "    y = slope * (t_ - t_wait) + pred[0]\n",
    "    \n",
    "    # find crossing point of internal and external water levels\n",
    "    cross = np.where(pred0 > y)[0][0]\n",
    "    \n",
    "    # constrain search range within t_start and theoretical intersection\n",
    "    # Offset by three time units to make sure not to find the first point (assumes this is not too many for tide cycle)\n",
    "    search_range = pred[t_wait + 3:cross]\n",
    "    search_y = y[t_wait + 3:cross]\n",
    "    \n",
    "    # Find distance from peak for points in search range\n",
    "    height_diff = (search_y - search_range)\n",
    "    \n",
    "    # Find difference between heights and target head\n",
    "    head_diff = (abs(height_diff - min_head))\n",
    "\n",
    "    # Find time where head is closest to min_head\n",
    "    t_end_range = np.where(head_diff == min(head_diff))[0][0]\n",
    "    \n",
    "    # Account for indices which were previously trimmed\n",
    "    t_end = t_end_range + t_wait\n",
    "    \n",
    "    return t_end"
   ]
  },
  {
   "cell_type": "markdown",
   "metadata": {},
   "source": [
    "## Simulation"
   ]
  },
  {
   "cell_type": "code",
   "execution_count": 15,
   "metadata": {
    "scrolled": false
   },
   "outputs": [],
   "source": [
    "rho = 1025 # [kg/m^3]\n",
    "A_l = 6.5 * 1000 * 1000 # [m^2]\n",
    "g = 9.81 # [m/s^2]\n",
    "\n",
    "# Head required to start allowing flow\n",
    "min_head = 2 # [m]\n",
    "\n",
    "# Define how many days to forecast, time intervals\n",
    "days = 5\n",
    "t_step = 0.15 # [hr]\n",
    "\n",
    "start = 0\n",
    "stop = 24 * days # [hr]\n",
    "\n",
    "# Time series for forecast\n",
    "t = np.arange(start = start, stop = stop, step = t_step)\n",
    "\n",
    "# Make prediction as sum of constituents across time series\n",
    "pred = 0\n",
    "for n in range(len(amp)):\n",
    "    A = amp[n]\n",
    "    p = pha[n]\n",
    "    T_ = T[n]\n",
    "    lab = labs[n]\n",
    "    pred += A*np.cos(2*np.pi*t/T_ - p)\n",
    "    \n",
    "# Find local extrema\n",
    "peaks, _ = find_peaks(pred)\n",
    "troughs, _ = find_peaks(-pred)"
   ]
  },
  {
   "cell_type": "code",
   "execution_count": 16,
   "metadata": {},
   "outputs": [
    {
     "data": {
      "text/plain": [
       "628.5705063421743"
      ]
     },
     "execution_count": 16,
     "metadata": {},
     "output_type": "execute_result"
    }
   ],
   "source": [
    "# Mean height\n",
    "H_mean = (pred[peaks].sum() - pred[troughs].sum()) / len(peaks)\n",
    "H_mean\n",
    "\n",
    "# Potential energy\n",
    "(1/2 * rho * g * A_l * H_mean**2) / 10**9 # [GJ]"
   ]
  },
  {
   "cell_type": "code",
   "execution_count": 24,
   "metadata": {},
   "outputs": [
    {
     "data": {
      "image/png": "[encoded data removed]",
      "text/plain": [
       "<Figure size 432x288 with 1 Axes>"
      ]
     },
     "metadata": {},
     "output_type": "display_data"
    }
   ],
   "source": [
    "# The length of pred0 is determined by distance between successive peaks, which is variable\n",
    "pred0, trough0 = get_slice(pred, 7, peaks, troughs)\n",
    "\n",
    "t_wait = get_start_time(pred0, trough0, min_head)\n",
    "\n",
    "slope = get_slope(pred0, t_wait)\n",
    "\n",
    "t_end = get_end_time(pred0, t_step, t_wait, slope, min_head)\n",
    "\n",
    "t_ = np.arange(t_wait, t_end, 1)\n",
    "y = slope * (t_ - t_wait) + pred0[0]\n",
    "\n",
    "plt.plot(pred0)\n",
    "plt.plot(t_wait, pred0[0], 'kx')\n",
    "plt.plot(t_[-1], y[-1], 'kx')\n",
    "plt.vlines(t_wait, pred0[t_wait], y[0], 'orange')\n",
    "plt.vlines(t_end, pred0[t_end], y[-1], 'orange')\n",
    "plt.plot(t_, y)\n",
    "plt.show()"
   ]
  },
  {
   "cell_type": "code",
   "execution_count": 36,
   "metadata": {},
   "outputs": [
    {
     "data": {
      "text/plain": [
       "-223.32937497933224"
      ]
     },
     "execution_count": 36,
     "metadata": {},
     "output_type": "execute_result"
    }
   ],
   "source": [
    "# i = t_wait\n",
    "hlo = pred0[t_wait:t_end] - y\n",
    "hdiff = hlo.sum()\n",
    "E = - rho * A_l * slope * g * hdiff\n",
    "E / 10**9"
   ]
  },
  {
   "cell_type": "code",
   "execution_count": 28,
   "metadata": {
    "scrolled": true
   },
   "outputs": [
    {
     "data": {
      "text/plain": [
       "20"
      ]
     },
     "execution_count": 28,
     "metadata": {},
     "output_type": "execute_result"
    }
   ],
   "source": [
    "len(pred0[t_wait:t_end])"
   ]
  },
  {
   "cell_type": "code",
   "execution_count": 29,
   "metadata": {},
   "outputs": [
    {
     "data": {
      "text/plain": [
       "20"
      ]
     },
     "execution_count": 29,
     "metadata": {},
     "output_type": "execute_result"
    }
   ],
   "source": [
    "len(y)"
   ]
  },
  {
   "cell_type": "code",
   "execution_count": null,
   "metadata": {
    "collapsed": true
   },
   "outputs": [],
   "source": []
  }
 ],
 "metadata": {
  "kernelspec": {
   "display_name": "Python 3",
   "language": "python",
   "name": "python3"
  },
  "language_info": {
   "codemirror_mode": {
    "name": "ipython",
    "version": 3
   },
   "file_extension": ".py",
   "mimetype": "text/x-python",
   "name": "python",
   "nbconvert_exporter": "python",
   "pygments_lexer": "ipython3",
   "version": "3.6.1"
  }
 },
 "nbformat": 4,
 "nbformat_minor": 2
}
