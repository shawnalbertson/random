{
 "cells": [
  {
   "cell_type": "markdown",
   "metadata": {},
   "source": [
    "### 1)\n",
    "a) Determine model speed ignoring frictional resistance"
   ]
  },
  {
   "cell_type": "code",
   "execution_count": 1,
   "metadata": {},
   "outputs": [
    {
     "name": "stdout",
     "output_type": "stream",
     "text": [
      "model speed:  0.711749644362398  m/s\n"
     ]
    }
   ],
   "source": [
    "l_m = 1.75 # m\n",
    "\n",
    "l_p = 280  # m\n",
    "l_s = l_m / l_p\n",
    "u_p = 9.003 # m/s\n",
    "u_m = u_p * (l_s)**(1/2)\n",
    "print(\"model speed: \", u_m, \" m/s\")"
   ]
  },
  {
   "cell_type": "markdown",
   "metadata": {},
   "source": [
    "b) Find total resistance\n",
    "- Use Reynolds number to model frictional drag for prototype and model\n",
    "    1. Calculate Reynolds number\n",
    "    2. Calculate $C_f(Re)$\n",
    "    3. Find wetted surface area of model\n",
    "    "
   ]
  },
  {
   "cell_type": "code",
   "execution_count": 2,
   "metadata": {
    "collapsed": true
   },
   "outputs": [],
   "source": [
    "import numpy as np\n",
    "import CoolProp.CoolProp as CP # fluidic properties library\n",
    "\n",
    "def cf(re):\n",
    "    \"\"\"\n",
    "    Find coefficient of friction due to wetted surface area\n",
    "    Equation taken from I.T.T.C. referenced in Kundu and Cohen 4th\n",
    "        re - Reynolds number\n",
    "    Returns: coefficient of drag\n",
    "    \"\"\"\n",
    "    cf = 0.075 / (np.log10(re)-2)**2\n",
    "    return cf\n",
    "\n",
    "\n",
    "def rf(re, rho, u, a):\n",
    "    \"\"\"\n",
    "    Find resistance due to friction\n",
    "        re - Reynolds number\n",
    "        rho - density [kg/m^3]\n",
    "        u - velocity\n",
    "        a - wetted surface area\n",
    "    Returns: frictional resistance force\n",
    "    \"\"\"\n",
    "    cf_ = cf(re)\n",
    "    rf = cf_ * 1/2 * rho * u**2 * a\n",
    "    return rf\n"
   ]
  },
  {
   "cell_type": "markdown",
   "metadata": {},
   "source": [
    "Estimate resistance due to friction  \n",
    "1) Find viscosity `mu`  \n",
    "2) Find Reynolds number `re`"
   ]
  },
  {
   "cell_type": "code",
   "execution_count": 3,
   "metadata": {},
   "outputs": [
    {
     "name": "stdout",
     "output_type": "stream",
     "text": [
      "1430069.6919531708\n",
      "2058698800.1223087\n"
     ]
    }
   ],
   "source": [
    "# Define atmospheric pressure\n",
    "p = 101325 # atmospheric pressure  (Pa)\n",
    "\n",
    "# Model\n",
    "mu_m = CP.PropsSI('V', 'P', p, 'T', 26+273.25, 'Water')\n",
    "rho_m = CP.PropsSI('D', 'P', p, 'T', 26+273.25, 'Water')\n",
    "nu_m = mu_m / rho_m\n",
    "re_m = (u_m * l_m) / nu_m\n",
    "print(re_m)\n",
    "\n",
    "# Prototype\n",
    "mu_p = CP.PropsSI('V', 'P', p, 'T', 14+273.25, 'INCOMP::MITSW[0.033]')\n",
    "rho_p = CP.PropsSI('D', 'P', p, 'T', 14+273.25, 'INCOMP::MITSW[0.033]')\n",
    "nu_p = mu_p/rho_p\n",
    "re_p = (u_p * l_p) / nu_p\n",
    "print(re_p)\n",
    "\n"
   ]
  },
  {
   "cell_type": "markdown",
   "metadata": {},
   "source": [
    "Find model area assuming flat plate. Calculate resistance."
   ]
  },
  {
   "cell_type": "code",
   "execution_count": 4,
   "metadata": {
    "collapsed": true
   },
   "outputs": [],
   "source": [
    "a_p = 18000 # m^2\n",
    "a_m = a_p * (l_m / l_p)**2# m^2\n",
    "\n",
    "rf_m = rf(re_m, rho_m, u_m, a_m)\n",
    "rf_p = rf(re_p, rho_p, u_p, a_p)"
   ]
  },
  {
   "cell_type": "code",
   "execution_count": 5,
   "metadata": {},
   "outputs": [
    {
     "data": {
      "text/plain": [
       "1048040.1109668601"
      ]
     },
     "execution_count": 5,
     "metadata": {},
     "output_type": "execute_result"
    }
   ],
   "source": [
    "rf_p"
   ]
  },
  {
   "cell_type": "markdown",
   "metadata": {},
   "source": [
    "Find residual resistance based on measured"
   ]
  },
  {
   "cell_type": "code",
   "execution_count": 6,
   "metadata": {
    "collapsed": true
   },
   "outputs": [],
   "source": [
    "# Measured resistance\n",
    "rm_m = 0.95 # [N]\n",
    "rr_m = rm_m - rf_m\n",
    "\n",
    "rr_p = rr_m * (rho_p/rho_m) * (l_p/l_m)**2 * (u_p/u_m)**2"
   ]
  },
  {
   "cell_type": "code",
   "execution_count": 7,
   "metadata": {
    "scrolled": true
   },
   "outputs": [
    {
     "data": {
      "text/plain": [
       "1801432.5183163173"
      ]
     },
     "execution_count": 7,
     "metadata": {},
     "output_type": "execute_result"
    }
   ],
   "source": [
    "r_p = rr_p + rf_p # N\n",
    "r_p"
   ]
  },
  {
   "cell_type": "markdown",
   "metadata": {},
   "source": [
    "$$P = R_p \\times U_p$$"
   ]
  },
  {
   "cell_type": "code",
   "execution_count": 8,
   "metadata": {},
   "outputs": [
    {
     "data": {
      "text/plain": [
       "16218296.962401805"
      ]
     },
     "execution_count": 8,
     "metadata": {},
     "output_type": "execute_result"
    }
   ],
   "source": [
    "r_p * u_p # N m/s"
   ]
  },
  {
   "cell_type": "markdown",
   "metadata": {},
   "source": [
    "Total power required is 16.2 MW"
   ]
  }
 ],
 "metadata": {
  "kernelspec": {
   "display_name": "Python 3",
   "language": "python",
   "name": "python3"
  },
  "language_info": {
   "codemirror_mode": {
    "name": "ipython",
    "version": 3
   },
   "file_extension": ".py",
   "mimetype": "text/x-python",
   "name": "python",
   "nbconvert_exporter": "python",
   "pygments_lexer": "ipython3",
   "version": "3.6.1"
  }
 },
 "nbformat": 4,
 "nbformat_minor": 2
}
